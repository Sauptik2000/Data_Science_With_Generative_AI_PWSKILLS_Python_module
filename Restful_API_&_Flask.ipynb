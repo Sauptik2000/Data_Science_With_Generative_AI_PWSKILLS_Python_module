{
  "nbformat": 4,
  "nbformat_minor": 0,
  "metadata": {
    "colab": {
      "provenance": []
    },
    "kernelspec": {
      "name": "python3",
      "display_name": "Python 3"
    },
    "language_info": {
      "name": "python"
    }
  },
  "cells": [
    {
      "cell_type": "markdown",
      "source": [
        "#Restful API & Flask"
      ],
      "metadata": {
        "id": "6vfbKw7mZBtx"
      }
    },
    {
      "cell_type": "markdown",
      "source": [
        "**1. What is a RESTful API?**\n",
        "- A RESTful API is an application programming interface that follows REST (Representational State Transfer) principles, using HTTP requests (GET, POST, PUT, DELETE) to perform operations on resources, typically represented in JSON or XML format."
      ],
      "metadata": {
        "id": "OI3JQ-zcZDre"
      }
    },
    {
      "cell_type": "markdown",
      "source": [
        "**2. Explain the concept of API specification**\n",
        "- An API specification defines the structure, behavior, and endpoints of an API. It outlines how the API works, including request/response formats, authentication methods, available endpoints, and error handling, providing a clear guide for developers to interact with the API."
      ],
      "metadata": {
        "id": "6IsgW37OZfkM"
      }
    },
    {
      "cell_type": "markdown",
      "source": [
        "**3. What is Flask, and why is it popular for building APIs**\n",
        "- Flask is a lightweight, Python-based web framework used for building web applications and APIs. It’s popular for APIs due to its simplicity, flexibility, and minimalistic design, allowing developers to quickly create and scale applications without a lot of overhead."
      ],
      "metadata": {
        "id": "zaU5vQ4BZppD"
      }
    },
    {
      "cell_type": "markdown",
      "source": [
        "**4. What is routing in Flask?**\n",
        "- Routing in Flask refers to mapping URLs to specific functions (views) in our application. When a request is made to a particular URL, Flask calls the corresponding function to handle the request and return a response. This is done using the `@app.route()` decorator."
      ],
      "metadata": {
        "id": "H1q0nHiAZ06C"
      }
    },
    {
      "cell_type": "markdown",
      "source": [
        "**5. How do you create a simple Flask application**\n",
        "- 1.  Install Flask.\n",
        "  2.  Create a Python file.\n",
        "  3.  Import Flask, create an app instance.\n",
        "  4.  Define routes with functions to handle them.\n",
        "  5.  Run the app.\n",
        "\n",
        "```python\n",
        "from flask import Flask\n",
        "app = Flask(__name__)\n",
        "@app.route('/')\n",
        "def hello():\n",
        "    return 'Hello, Flask!'\n",
        "if __name__ == '__main__':\n",
        "    app.run(debug=True)\n",
        "```\n"
      ],
      "metadata": {
        "id": "vJvwLe29aH7A"
      }
    },
    {
      "cell_type": "markdown",
      "source": [
        "**6. What are HTTP methods used in RESTful APIs?**\n",
        "- The most common HTTP methods used in RESTful APIs, often corresponding to CRUD operations, are:\n",
        "\n",
        "* **GET:** Retrieves a resource.\n",
        "* **POST:** Creates a new resource.\n",
        "* **PUT:** Updates an existing resource (replaces the entire resource).\n",
        "* **DELETE:** Removes a resource.\n",
        "* **PATCH:** Partially updates an existing resource."
      ],
      "metadata": {
        "id": "iFthqH1qdIhh"
      }
    },
    {
      "cell_type": "markdown",
      "source": [
        "**7. What is the purpose of the @app.route() decorator in Flask?**\n",
        "- It binds a URL path to a specific Python function (view function) that will handle requests to that path."
      ],
      "metadata": {
        "id": "rohHOyJ3dU14"
      }
    },
    {
      "cell_type": "markdown",
      "source": [
        "**8. What is the difference between GET and POST HTTP methods?**\n",
        "- * **GET:** Requests data from a server. Data is usually in the URL.\n",
        "- * **POST:** Sends data to a server to create or update a resource. Data is in the request body."
      ],
      "metadata": {
        "id": "CGtVkjSadgaY"
      }
    },
    {
      "cell_type": "markdown",
      "source": [
        "**9. How do you handle errors in Flask APIs?**\n",
        "- **Specific Error Handlers:** Use `@app.errorhandler(ErrorCode)` to define functions for specific HTTP error codes (e.g., 404, 500).\n",
        "* **Generic Exception Handling:** Use `@app.errorhandler(Exception)` for broader error catching.\n",
        "* **Abort:** Use `abort(ErrorCode)` to raise an HTTP error programmatically.\n",
        "* **Try-Except Blocks:** Implement within route functions for handling potential exceptions.\n",
        "* **Custom Error Responses:** Return JSON or other formats with error details."
      ],
      "metadata": {
        "id": "-QbbWYW3dqOW"
      }
    },
    {
      "cell_type": "markdown",
      "source": [
        "**10. How do you connect Flask to a SQL database?**\n",
        "- **Install SQLAlchemy:** `pip install Flask-SQLAlchemy`\n",
        "- **Configure:** Set the `SQLALCHEMY_DATABASE_URI` in your Flask app config.\n",
        "- **Define Models:** Create Python classes that inherit from `db.Model` to represent database tables.\n",
        "- **Initialize:** Create a `SQLAlchemy` instance and pass your Flask app to it.\n",
        "- **Perform Operations:** Use the `db` object to query, add, update, and delete data."
      ],
      "metadata": {
        "id": "8blXfDaDd3Vd"
      }
    },
    {
      "cell_type": "markdown",
      "source": [
        "**11. What is the role of Flask-SQLAlchemy?**\n",
        "- Flask-SQLAlchemy simplifies using SQLAlchemy (a powerful Python SQL toolkit) with Flask. It provides utilities to integrate SQLAlchemy with your Flask application, handling tasks like database connection management and session handling, making database interactions more convenient within the Flask context."
      ],
      "metadata": {
        "id": "K7MS7kq6ecHz"
      }
    },
    {
      "cell_type": "markdown",
      "source": [
        "**12. What are Flask blueprints, and how are they useful?**\n",
        "- Flask blueprints are a way to organize a Flask application into reusable components. They are useful for:\n",
        "\n",
        "* **Modularity:** Breaking down a large application into smaller, manageable parts.\n",
        "* **Reusability:** Registering the same blueprint in multiple applications or at different URL prefixes.\n",
        "* **Organization:** Keeping related views, templates, static files, and other assets together.\n",
        "* **Large Teams:** Enabling multiple developers to work on different parts of the application simultaneously."
      ],
      "metadata": {
        "id": "SII1aM0jerqx"
      }
    },
    {
      "cell_type": "markdown",
      "source": [
        "**13. What is the purpose of Flask's request object?**\n",
        "- The `request` object in Flask provides access to incoming client data, including:\n",
        "\n",
        "* Form data\n",
        "* JSON data\n",
        "* Query parameters\n",
        "* Headers\n",
        "* Files\n",
        "* Cookies\n",
        "* Method (GET, POST, etc.)\n",
        "* URL information"
      ],
      "metadata": {
        "id": "eXYY90kmfC5f"
      }
    },
    {
      "cell_type": "markdown",
      "source": [
        "**14. How do you create a RESTful API endpoint using Flask?**\n",
        "1.  **Define a URL route:** Use `@app.route('/resource', methods=['GET', 'POST', ...])`.\n",
        "2.  **Implement view functions:** Create functions for each HTTP method (e.g., `get()`, `post()`).\n",
        "3.  **Access request data:** Use the `request` object (`request.json`, `request.args`, etc.).\n",
        "4.  **Process data:** Perform necessary operations.\n",
        "5.  **Return responses:** Return JSON data (using `jsonify`) and appropriate HTTP status codes."
      ],
      "metadata": {
        "id": "v-DCV_R6fO2-"
      }
    },
    {
      "cell_type": "markdown",
      "source": [
        "**15. What is the purpose of Flask's jsonify() function?**\n",
        "- `jsonify()` converts Python dictionaries, lists, and other serializable data into a JSON response with the correct `Content-Type` header (`application/json`). It simplifies returning JSON from Flask API endpoints."
      ],
      "metadata": {
        "id": "0rXWx7I8frxM"
      }
    },
    {
      "cell_type": "markdown",
      "source": [
        "**16. Explain Flask’s url_for() function**\n",
        "- `url_for()` generates a URL to a specific endpoint (view function) based on its name. This is useful because:\n",
        "\n",
        "* **Dynamic URL Generation:** Avoids hardcoding URLs, making changes easier.\n",
        "* **Reverse Routing:** Allows you to generate URLs without knowing the exact path.\n",
        "* **Blueprint Support:** Works correctly with URLs defined in blueprints.\n",
        "* **Parameter Handling:** Can automatically add query parameters to the URL."
      ],
      "metadata": {
        "id": "C-gCySDwf1VL"
      }
    },
    {
      "cell_type": "markdown",
      "source": [
        "**17. How does Flask handle static files (CSS, JavaScript, etc.)?**\n",
        "- Flask serves static files from a folder named `static` in the same directory as your main application file (or a specified static folder). You can access them in your templates using the `url_for('static', filename='...')` function. Flask handles the routing and serving of these files automatically."
      ],
      "metadata": {
        "id": "cBnFRno8gHXp"
      }
    },
    {
      "cell_type": "markdown",
      "source": [
        "**18. What is an API specification, and how does it help in building a Flask API?**\n",
        "- An API specification is a document (often in formats like OpenAPI/Swagger or RAML) that describes the design and functionality of an API. It helps in building a Flask API by:\n",
        "\n",
        "* **Providing a clear contract:** Defining endpoints, request/response formats, data types, and authentication methods.\n",
        "* **Facilitating communication:** Enabling better understanding between frontend, backend, and other stakeholders.\n",
        "* **Enabling code generation:** Tools can generate server stubs (like Flask code) and client libraries from the specification.\n",
        "* **Improving testing:** Allows for automated testing against the defined contract.\n",
        "* **Generating documentation:** Many tools can automatically create interactive API documentation from the specification.\n",
        "* **Guiding development:** Serving as a blueprint for building the API consistently."
      ],
      "metadata": {
        "id": "3pbuDMGlgavQ"
      }
    },
    {
      "cell_type": "markdown",
      "source": [
        "**19. What are HTTP status codes, and why are they important in a Flask API**\n",
        "- HTTP status codes are three-digit numbers returned by the server to indicate the outcome of a client's request. They are crucial in a Flask API because they:\n",
        "\n",
        "* **Communicate success or failure:** Inform the client whether the request was successful, encountered an error, or requires further action.\n",
        "* **Provide context:** Offer specific details about the result (e.g., resource not found, unauthorized access).\n",
        "* **Enable proper client behavior:** Allow clients to handle responses appropriately (e.g., retry failed requests, display error messages).\n",
        "* **Aid debugging:** Help developers understand and troubleshoot API issues.\n",
        "* **Follow web standards:** Ensure interoperability with various clients and systems."
      ],
      "metadata": {
        "id": "3TZZtROrgyOe"
      }
    },
    {
      "cell_type": "markdown",
      "source": [
        "**20. How do you handle POST requests in Flask?**\n",
        "1.  **Define a route with `methods=['POST']`:** `@app.route('/resource', methods=['POST'])`\n",
        "2.  **Access request data:** Use `request.form` (for form data), `request.json` (for JSON data), or `request.files` (for uploaded files).\n",
        "3.  **Process the data:** Perform necessary operations (e.g., save to a database).\n",
        "4.  **Return a response:** Typically JSON data and an appropriate HTTP status code (e.g., 201 Created for successful creation, 400 Bad Request for invalid data). Use `jsonify()` to send JSON."
      ],
      "metadata": {
        "id": "VaNbhG1ohEGk"
      }
    },
    {
      "cell_type": "markdown",
      "source": [
        "**21. How would you secure a Flask API?**\n",
        "- HTTPS, strong authentication (e.g., JWT), input validation, output sanitization, protection against common web vulnerabilities (XSS, SQLi, CSRF, etc.), secure handling of sensitive data (hashing, encryption), rate limiting, security headers, regular updates, and thorough testing."
      ],
      "metadata": {
        "id": "NYBqkcEqhS6b"
      }
    },
    {
      "cell_type": "markdown",
      "source": [
        "**22. What is the significance of the Flask-RESTful extension?**\n",
        "- Flask-RESTful simplifies building REST APIs with Flask by providing tools for resource definition, request parsing, and response formatting, leading to cleaner and more organized code."
      ],
      "metadata": {
        "id": "qWaUiE7khwno"
      }
    },
    {
      "cell_type": "markdown",
      "source": [
        "**23. What is the role of Flask’s session object?**\n",
        "- Flask's session object allows you to store and retrieve data specific to a user's browser session across multiple requests. This is useful for maintaining user logins, preferences, and temporary data. The data is typically stored in a signed cookie on the client-side, making it convenient but requiring careful management to prevent tampering."
      ],
      "metadata": {
        "id": "KQ1j2mx8h9_w"
      }
    },
    {
      "cell_type": "code",
      "source": [
        "#1. How do you create a basic Flask application\n",
        "\n",
        "from flask import Flask\n",
        "\n",
        "app = Flask(__name__)\n",
        "\n",
        "@app.route('/')\n",
        "def hello_world():\n",
        "    return 'Hello, World!'\n",
        "\n",
        "if __name__ == '__main__':\n",
        "    app.run(debug=True)"
      ],
      "metadata": {
        "id": "Di5FIvZniGXP"
      },
      "execution_count": 4,
      "outputs": []
    },
    {
      "cell_type": "code",
      "source": [
        "#2. How do you serve static files like images or CSS in Flask\n",
        "\n",
        "from flask import Flask\n",
        "\n",
        "app = Flask(__name__, static_folder='static')\n",
        "\n",
        "@app.route('/')\n",
        "def index():\n",
        "    return '<img src=\"/static/image.jpg\">'\n",
        "\n",
        "if __name__ == '__main__':\n",
        "    app.run(debug=True)"
      ],
      "metadata": {
        "id": "xgfjfsTkiKNn"
      },
      "execution_count": 1,
      "outputs": []
    },
    {
      "cell_type": "code",
      "source": [
        "#3. How do you define different routes with different HTTP methods in Flask\n",
        "\n",
        "from flask import Flask, request\n",
        "\n",
        "app = Flask(__name__)\n",
        "\n",
        "@app.route('/data', methods=['GET'])\n",
        "def get_data():\n",
        "    return 'Data retrieved!'\n",
        "\n",
        "@app.route('/data', methods=['POST'])\n",
        "def post_data():\n",
        "    data = request.get_json()\n",
        "    return f'Data received: {data}'\n",
        "\n",
        "if __name__ == '__main__':\n",
        "    app.run(debug=True)"
      ],
      "metadata": {
        "id": "oix4H6UIjWdy"
      },
      "execution_count": null,
      "outputs": []
    },
    {
      "cell_type": "code",
      "source": [
        "#4. How do you render HTML templates in Flask\n",
        "\n",
        "from flask import Flask, render_template\n",
        "\n",
        "app = Flask(__name__)\n",
        "\n",
        "@app.route('/hello/<name>')\n",
        "def hello(name):\n",
        "    return render_template('hello.html', name=name)     #'hello.html' is the html file\n",
        "\n",
        "if __name__ == '__main__':\n",
        "    app.run(debug=True)"
      ],
      "metadata": {
        "id": "XY_8hHUtjkqo"
      },
      "execution_count": null,
      "outputs": []
    },
    {
      "cell_type": "code",
      "source": [
        "#5. How can you generate URLs for routes in Flask using url_for?\n",
        "\n",
        "from flask import Flask, url_for\n",
        "\n",
        "app = Flask(__name__)\n",
        "\n",
        "@app.route('/user/<username>')\n",
        "def user_profile(username):\n",
        "    return f'User: {username}'\n",
        "\n",
        "@app.route('/post/<int:post_id>')\n",
        "def show_post(post_id):\n",
        "    return f'Post ID: {post_id}'\n",
        "\n",
        "with app.test_request_context():\n",
        "    print(url_for('user_profile', username='john'))\n",
        "    print(url_for('show_post', post_id=123))\n",
        "    print(url_for('static', filename='style.css'))"
      ],
      "metadata": {
        "id": "F0o7eiuoj3aO"
      },
      "execution_count": 6,
      "outputs": []
    },
    {
      "cell_type": "code",
      "source": [
        "#6. How do you handle forms in Flask\n",
        "\n",
        "from flask import Flask, request, render_template\n",
        "\n",
        "app = Flask(__name__)\n",
        "\n",
        "@app.route('/submit', methods=['GET', 'POST'])\n",
        "def submit():\n",
        "    if request.method == 'POST':\n",
        "        name = request.form['name']\n",
        "        return f'Hello, {name}!'\n",
        "    return render_template('form.html')\n",
        "\n",
        "if __name__ == '__main__':\n",
        "    app.run(debug=True)"
      ],
      "metadata": {
        "id": "GpA_PoZGj6TA"
      },
      "execution_count": 5,
      "outputs": []
    },
    {
      "cell_type": "code",
      "source": [
        "#7. How can you validate form data in Flask\n",
        "\n",
        "from flask import Flask, request, render_template\n",
        "from wtforms import Form, StringField, validators\n",
        "\n",
        "app = Flask(__name__)\n",
        "\n",
        "class MyForm(Form):\n",
        "    name = StringField('Name', [validators.Length(min=4, max=25)])\n",
        "\n",
        "@app.route('/submit', methods=['GET', 'POST'])\n",
        "def submit():\n",
        "    form = MyForm(request.form)\n",
        "    if request.method == 'POST' and form.validate():\n",
        "        name = form.name.data\n",
        "        return f'Hello, {name}!'\n",
        "    return render_template('form_validate.html', form=form)\n",
        "\n",
        "if __name__ == '__main__':\n",
        "    app.run(debug=True)"
      ],
      "metadata": {
        "id": "QnB89ZMVkJv2"
      },
      "execution_count": 7,
      "outputs": []
    },
    {
      "cell_type": "code",
      "source": [
        "#8. How do you manage sessions in Flask\n",
        "\n",
        "from flask import Flask, session, redirect, url_for, request\n",
        "\n",
        "app = Flask(__name__)\n",
        "app.secret_key = 'secret key'\n",
        "\n",
        "@app.route('/')\n",
        "def index():\n",
        "    if 'username' in session:\n",
        "        return f'Logged in as {session[\"username\"]}'\n",
        "    return 'You are not logged in'\n",
        "\n",
        "@app.route('/login', methods=['GET', 'POST'])\n",
        "def login():\n",
        "    if request.method == 'POST':\n",
        "        session['username'] = request.form['username']\n",
        "        return redirect(url_for('index'))\n",
        "    return '''\n",
        "        <form method=\"post\">\n",
        "            <p><input type=text name=username>\n",
        "            <p><input type=submit value=Login>\n",
        "        </form>\n",
        "    '''\n",
        "\n",
        "@app.route('/logout')\n",
        "def logout():\n",
        "    session.pop('username', None)\n",
        "    return redirect(url_for('index'))\n",
        "\n",
        "if __name__ == '__main__':\n",
        "    app.run(debug=True)"
      ],
      "metadata": {
        "id": "u51cOakhkNFJ"
      },
      "execution_count": 8,
      "outputs": []
    },
    {
      "cell_type": "code",
      "source": [
        "#9. How do you redirect to a different route in Flask\n",
        "\n",
        "from flask import Flask, redirect, url_for\n",
        "\n",
        "app = Flask(__name__)\n",
        "\n",
        "@app.route('/')\n",
        "def index():\n",
        "    return 'This is the index page.'\n",
        "\n",
        "@app.route('/admin')\n",
        "def admin_page():\n",
        "    return 'This is the admin page.'\n",
        "\n",
        "@app.route('/login')\n",
        "def login():\n",
        "    user_logged_in = True\n",
        "    if user_logged_in:\n",
        "        return redirect(url_for('admin_page'))      #redirect() function along with url_for() to redirect the user to a different route by its function name (endpoint).\n",
        "    return 'Login failed.'\n",
        "\n",
        "if __name__ == '__main__':\n",
        "    app.run(debug=True)"
      ],
      "metadata": {
        "id": "SzqBnbqflDQf"
      },
      "execution_count": 8,
      "outputs": []
    },
    {
      "cell_type": "code",
      "source": [
        "#10. How do you handle errors in Flask (e.g., 404)\n",
        "\n",
        "from flask import Flask, render_template\n",
        "\n",
        "app = Flask(__name__)\n",
        "\n",
        "@app.errorhandler(404)\n",
        "def page_not_found(e):\n",
        "    return render_template('404.html'), 404\n",
        "\n",
        "@app.route('/')\n",
        "def index():\n",
        "    return 'Home Page'\n",
        "\n",
        "if __name__ == '__main__':\n",
        "    app.run(debug=True)"
      ],
      "metadata": {
        "id": "Mv9DdJqVlxce"
      },
      "execution_count": 9,
      "outputs": []
    },
    {
      "cell_type": "code",
      "source": [
        "#11. How do you structure a Flask app using Blueprints\n",
        "\n",
        "# my_app/__init__.py\n",
        "from flask import Flask\n",
        "from .admin import admin_bp\n",
        "from .main import main_bp\n",
        "\n",
        "app = Flask(__name__)\n",
        "app.register_blueprint(main_bp)\n",
        "app.register_blueprint(admin_bp, url_prefix='/admin')\n",
        "\n",
        "# my_app/main.py\n",
        "from flask import Blueprint, render_template\n",
        "\n",
        "main_bp = Blueprint('main', __name__)\n",
        "\n",
        "@main_bp.route('/')\n",
        "def index():\n",
        "    return render_template('main/index.html')\n",
        "\n",
        "# my_app/admin.py\n",
        "from flask import Blueprint, render_template\n",
        "\n",
        "admin_bp = Blueprint('admin', __name__)\n",
        "\n",
        "@admin_bp.route('/')\n",
        "def admin_index():\n",
        "    return render_template('admin/index.html')\n",
        "\n",
        "# Run the app (e.g., run.py)\n",
        "from my_app import app\n",
        "\n",
        "if __name__ == '__main__':\n",
        "    app.run(debug=True)"
      ],
      "metadata": {
        "id": "rxUVkaUIl1a7"
      },
      "execution_count": null,
      "outputs": []
    },
    {
      "cell_type": "code",
      "source": [
        "#12. How do you define a custom Jinja filter in Flask\n",
        "\n",
        "from flask import Flask\n",
        "\n",
        "app = Flask(__name__)\n",
        "\n",
        "def reverse_string(s):\n",
        "    return s[::-1]\n",
        "\n",
        "app.jinja_env.filters['reverse'] = reverse_string\n",
        "\n",
        "@app.route('/<name>')\n",
        "def hello(name):\n",
        "    return f'Reversed name: {{ name|reverse }}'\n",
        "\n",
        "if __name__ == '__main__':\n",
        "    app.run(debug=True)"
      ],
      "metadata": {
        "id": "KfURQE4gmKZN"
      },
      "execution_count": null,
      "outputs": []
    },
    {
      "cell_type": "code",
      "source": [
        "#13. How can you redirect with query parameters in Flask\n",
        "\n",
        "from flask import Flask, redirect, url_for\n",
        "\n",
        "app = Flask(__name__)\n",
        "\n",
        "@app.route('/')\n",
        "def index():\n",
        "    return 'Home page'\n",
        "\n",
        "@app.route('/redirect-with-params')\n",
        "def redirect_with_params():\n",
        "    return redirect(url_for('results', query='example', id=123))\n",
        "\n",
        "@app.route('/results')\n",
        "def results():\n",
        "    query = request.args.get('query')\n",
        "    id = request.args.get('id')\n",
        "    return f'Query: {query}, ID: {id}'\n",
        "\n",
        "if __name__ == '__main__':\n",
        "    app.run(debug=True)"
      ],
      "metadata": {
        "id": "jzESKqSjmaQR"
      },
      "execution_count": null,
      "outputs": []
    },
    {
      "cell_type": "code",
      "source": [
        "#14. How do you return JSON responses in Flask\n",
        "\n",
        "from flask import Flask, jsonify\n",
        "\n",
        "app = Flask(__name__)\n",
        "\n",
        "@app.route('/api/data')\n",
        "def get_api_data():\n",
        "    data = {'message': 'Hello from the API!', 'value': 42}\n",
        "    return jsonify(data)\n",
        "\n",
        "if __name__ == '__main__':\n",
        "    app.run(debug=True)"
      ],
      "metadata": {
        "id": "e5gZSaFpmkcJ"
      },
      "execution_count": null,
      "outputs": []
    },
    {
      "cell_type": "code",
      "source": [
        "#15. How do you capture URL parameters in Flask?\n",
        "\n",
        "from flask import Flask\n",
        "\n",
        "app = Flask(__name__)\n",
        "\n",
        "@app.route('/user/<username>')\n",
        "def show_user_profile(username):\n",
        "    return f'User: {username}'\n",
        "\n",
        "@app.route('/post/<int:post_id>')\n",
        "def show_post(post_id):\n",
        "    return f'Post ID: {post_id}'\n",
        "\n",
        "if __name__ == '__main__':\n",
        "    app.run(debug=True)"
      ],
      "metadata": {
        "id": "B8pirHH0mqHQ"
      },
      "execution_count": null,
      "outputs": []
    }
  ]
}